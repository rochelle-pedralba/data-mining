{
 "cells": [
  {
   "cell_type": "code",
   "execution_count": 11,
   "metadata": {},
   "outputs": [],
   "source": [
    "import pandas as pd\n",
    "\n",
    "csv_file_path1 = '..\\\\dataset\\\\csv\\\\international_top_terms_000000000000.csv'\n",
    "csv_file_path2 = '..\\\\dataset\\\\csv\\\\international_top_terms_000000000192.csv'\n",
    "csv_file_path3 = '..\\\\dataset\\\\csv\\\\international_top_terms_000000000290.csv'\n",
    "\n",
    "df1 = pd.read_csv(csv_file_path1)\n",
    "df2 = pd.read_csv(csv_file_path2)\n",
    "df3 = pd.read_csv(csv_file_path3)\n",
    "\n",
    "combined_df = pd.concat([df1, df2, df3])"
   ]
  },
  {
   "cell_type": "code",
   "execution_count": 12,
   "metadata": {},
   "outputs": [],
   "source": [
    "# Filter out rows where either \"score\" or \"rank\" column is empty\n",
    "filtered_df = combined_df[combined_df['score'].notna() & combined_df['rank'].notna()]\n",
    "\n",
    "# Filter out rows where \"rank\" is greater than 50 or \"score\" is less than 50\n",
    "filtered_df = combined_df[(combined_df['rank'] <= 50) & (combined_df['score'] >= 50)]\n",
    "\n",
    "# Save the filtered DataFrame to a new CSV file\n",
    "filtered_csv_path = '..\\\\dataset\\\\csv\\\\international_top_terms_cleaned.csv'\n",
    "filtered_df.to_csv(filtered_csv_path, index=False)"
   ]
  }
 ],
 "metadata": {
  "kernelspec": {
   "display_name": ".venv",
   "language": "python",
   "name": "python3"
  },
  "language_info": {
   "codemirror_mode": {
    "name": "ipython",
    "version": 3
   },
   "file_extension": ".py",
   "mimetype": "text/x-python",
   "name": "python",
   "nbconvert_exporter": "python",
   "pygments_lexer": "ipython3",
   "version": "3.12.2"
  }
 },
 "nbformat": 4,
 "nbformat_minor": 2
}
